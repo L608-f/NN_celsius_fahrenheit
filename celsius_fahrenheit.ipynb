{
  "nbformat": 4,
  "nbformat_minor": 0,
  "metadata": {
    "colab": {
      "provenance": [],
      "authorship_tag": "ABX9TyMYCkNm5w4qbKGmNvUNC9hF",
      "include_colab_link": true
    },
    "kernelspec": {
      "name": "python3",
      "display_name": "Python 3"
    },
    "language_info": {
      "name": "python"
    }
  },
  "cells": [
    {
      "cell_type": "markdown",
      "metadata": {
        "id": "view-in-github",
        "colab_type": "text"
      },
      "source": [
        "<a href=\"https://colab.research.google.com/github/L608-f/NN_celsius_fahrenheit/blob/main/celsius_fahrenheit.ipynb\" target=\"_parent\"><img src=\"https://colab.research.google.com/assets/colab-badge.svg\" alt=\"Open In Colab\"/></a>"
      ]
    },
    {
      "cell_type": "code",
      "execution_count": null,
      "metadata": {
        "id": "A0TuUtn8oCAW"
      },
      "outputs": [],
      "source": [
        "# import os \n",
        "# os.environ['TF_CPP_MIN_LOG_LEVEL'] = 2\n",
        "# нет необходимотси качать CUDA для GPU"
      ]
    },
    {
      "cell_type": "code",
      "source": [
        "import numpy as np \n",
        "import matplotlib.pyplot as plt \n",
        "from tensorflow import keras\n",
        "from tensorflow.keras.layers import Dense"
      ],
      "metadata": {
        "id": "Du9rWXj-rnO4"
      },
      "execution_count": null,
      "outputs": []
    },
    {
      "cell_type": "markdown",
      "source": [
        "перевод градусов цельсия в грудсы фаренгейта"
      ],
      "metadata": {
        "id": "cLHvXDG7tsPR"
      }
    },
    {
      "cell_type": "markdown",
      "source": [
        "F = C * 1.8 + 32 "
      ],
      "metadata": {
        "id": "Pe6FMFxYuHU-"
      }
    },
    {
      "cell_type": "code",
      "source": [
        "celsius = np.array([-40, -10, 0, 8, 15, 22, 38])\n",
        "fahrenheit = np.array([-40, 14, 32, 46, 59, 72, 100])\n",
        "\n",
        "model = keras.Sequential()\n",
        "model.add(Dense(units = 1, input_shape = (1,), activation = 'linear'))\n",
        "\n",
        "model.compile(loss = 'mean_squared_error', optimizer = keras.optimizers.Adam(0.1))\n",
        "\n",
        "history = model.fit(celsius, fahrenheit, epochs = 700, verbose = False)\n",
        "\n",
        "plt.plot(history.history['loss'])\n",
        "plt.grid(True)\n",
        "plt.show()"
      ],
      "metadata": {
        "id": "VqHEa0_Vte1g",
        "colab": {
          "base_uri": "https://localhost:8080/",
          "height": 265
        },
        "outputId": "027f3aa8-1e2d-43df-c9c7-2f54968c492d"
      },
      "execution_count": null,
      "outputs": [
        {
          "output_type": "display_data",
          "data": {
            "text/plain": [
              "<Figure size 432x288 with 1 Axes>"
            ],
            "image/png": "[encoded data removed]"
          },
          "metadata": {
            "needs_background": "light"
          }
        }
      ]
    },
    {
      "cell_type": "code",
      "source": [
        "print(model.weights)"
      ],
      "metadata": {
        "colab": {
          "base_uri": "https://localhost:8080/"
        },
        "id": "pFx6m-CapDxR",
        "outputId": "45b1bfba-54b1-45c5-ee5f-c4666df4ad48"
      },
      "execution_count": null,
      "outputs": [
        {
          "output_type": "stream",
          "name": "stdout",
          "text": [
            "[<tf.Variable 'dense_15/kernel:0' shape=(1, 1) dtype=float32, numpy=array([[1.8035963]], dtype=float32)>, <tf.Variable 'dense_15/bias:0' shape=(1,) dtype=float32, numpy=array([31.293333], dtype=float32)>]\n"
          ]
        }
      ]
    },
    {
      "cell_type": "code",
      "source": [
        "test =[100, 300, 28, 43, 0, 10]\n",
        "\n",
        "for temp in test: \n",
        "  print(temp, model.predict([temp]))"
      ],
      "metadata": {
        "colab": {
          "base_uri": "https://localhost:8080/"
        },
        "id": "KfEPzEpFpgHy",
        "outputId": "1bc47915-eb6a-4c07-bcc8-dd0696fa1e2d"
      },
      "execution_count": null,
      "outputs": [
        {
          "output_type": "stream",
          "name": "stdout",
          "text": [
            "1/1 [==============================] - 0s 52ms/step\n",
            "100 [[211.65295]]\n",
            "1/1 [==============================] - 0s 28ms/step\n",
            "300 [[572.3722]]\n",
            "1/1 [==============================] - 0s 28ms/step\n",
            "28 [[81.79403]]\n",
            "1/1 [==============================] - 0s 34ms/step\n",
            "43 [[108.84798]]\n",
            "1/1 [==============================] - 0s 41ms/step\n",
            "0 [[31.293333]]\n",
            "1/1 [==============================] - 0s 34ms/step\n",
            "10 [[49.329296]]\n"
          ]
        }
      ]
    }
  ]
}